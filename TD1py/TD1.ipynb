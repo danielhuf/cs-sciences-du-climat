{
 "cells": [
  {
   "cell_type": "code",
   "execution_count": 1,
   "metadata": {},
   "outputs": [
    {
     "name": "stdout",
     "output_type": "stream",
     "text": [
      "m =  12.45619886868258\n",
      "F =  -0.03175728417509802\n"
     ]
    },
    {
     "data": {
      "image/png": "[encoded data removed]",
      "text/plain": [
       "<Figure size 432x288 with 1 Axes>"
      ]
     },
     "metadata": {
      "needs_background": "light"
     },
     "output_type": "display_data"
    }
   ],
   "source": [
    "#\n",
    "# TD 1 \"Sciences du Climat\" - Question 2\n",
    "#\n",
    "from scipy.integrate import solve_ivp\n",
    "import matplotlib.pyplot as plt\n",
    "\n",
    "#\n",
    "# les paramètres\n",
    "#\n",
    "Smoy = 35.0\n",
    "mu = 6\n",
    "delta = 8\n",
    "tau = 10\n",
    "V = 300\n",
    "T1r = 5\n",
    "T2r = 20\n",
    "S1r = 34.3\n",
    "\n",
    "#\n",
    "# le système d'équations différentielles\n",
    "#\n",
    "def f(t,y):\n",
    "# on renomme les variables pronostiques et on en déduit les variables diagnostiques\n",
    "    T1 = y[0]\n",
    "    T2 = y[1]\n",
    "    S1 = y[2]\n",
    "#############  à compléter   #########\n",
    "    S2 = 2*Smoy - S1\n",
    "    m  = mu*((T2-T1)-delta*(S2-S1))\n",
    "    \n",
    "# et les équations d'évolution\n",
    "    dT1dt = (T1r-T1)/tau + (abs(m)/V)*(T2-T1)\n",
    "    dT2dt = (T2r-T2)/tau + (abs(m)/V)*(T1-T2)\n",
    "    dS1dt = (S1r-S1)/tau + (abs(m)/V)*(S2-S1)\n",
    "#######################################\n",
    "    return [dT1dt, dT2dt, dS1dt]\n",
    "\n",
    "#\n",
    "# la condition initiale: 10°C, 10°C et 35‰\n",
    "#\n",
    "y0 = [10,10,35]\n",
    "tfinal = 1000\n",
    "\n",
    "#\n",
    "# on intègre l'équation différentielle y' = f(y,t)\n",
    "#\n",
    "sol = solve_ivp(f, [0, tfinal], y0, rtol = 1e-7)\n",
    "\n",
    "#\n",
    "# on s'intéresse à la valeur finale (supposée être \"l'équilibre\")\n",
    "#\n",
    "yfinal = sol.y[:,-1]\n",
    "T1final = yfinal[0]\n",
    "T2final = yfinal[1]\n",
    "S1final = yfinal[2]\n",
    "\n",
    "#############  à compléter   #########\n",
    "S2final = 2*Smoy - S1final\n",
    "mfinal  = mu*((T2final-T1final)-delta*(S2final-S1final))\n",
    "#######################################\n",
    "\n",
    "print(\"m = \",mfinal)\n",
    "print(\"F = \",(S1r - S1final)/tau)\n",
    "\n",
    "#\n",
    "# on peut aussi regarder l'évolution temporelle de la circulation m\n",
    "#\n",
    "def mfunc(y):\n",
    "# on renomme les variables pronostiques et on en déduit les variables diagnostiques\n",
    "    T1 = y[0]\n",
    "    T2 = y[1]\n",
    "    S1 = y[2]\n",
    "    \n",
    "#############  à compléter   #########\n",
    "    S2 = 2*Smoy - S1\n",
    "    m  = mu*((T2-T1)-delta*(S2-S1))\n",
    "#######################################\n",
    "    return m\n",
    "\n",
    "ym = mfunc(sol.y)\n",
    "\n",
    "plt.plot(sol.t,ym)\n",
    "plt.show()"
   ]
  },
  {
   "cell_type": "code",
   "execution_count": 2,
   "metadata": {},
   "outputs": [
    {
     "name": "stdout",
     "output_type": "stream",
     "text": [
      "35 & -0.032 :  -6.683868520475521\n",
      "35 & -0.031 :  15.435925374714262\n",
      "34 & -0.031 :  -6.42986046942103\n"
     ]
    },
    {
     "data": {
      "image/png": "[encoded data removed]",
      "text/plain": [
       "<Figure size 432x288 with 1 Axes>"
      ]
     },
     "metadata": {
      "needs_background": "light"
     },
     "output_type": "display_data"
    }
   ],
   "source": [
    "#\n",
    "# TD 1 \"Sciences du Climat\" - Question 3\n",
    "# pour ce 2nd problème, on explore l'influence de F et de la condition initiale sur S1\n",
    "#\n",
    "from scipy.integrate import solve_ivp\n",
    "import numpy as np\n",
    "import matplotlib.pyplot as plt\n",
    "\n",
    "#\n",
    "# les paramètres\n",
    "#\n",
    "Smoy = 35.0\n",
    "mu = 6\n",
    "delta = 8\n",
    "tau = 10\n",
    "V = 300\n",
    "T1r = 5\n",
    "T2r = 20\n",
    "S1r = 34.3\n",
    "\n",
    "#\n",
    "# le système d'équations différentielles, avec F en paramètre\n",
    "#\n",
    "def f2(t,y,F):\n",
    "# on renomme les variables pronostiques et on en déduit les variables diagnostiques\n",
    "    T1 = y[0]\n",
    "    T2 = y[1]\n",
    "    S1 = y[2]\n",
    "    \n",
    "#############  à compléter   #########\n",
    "    S2 = 2*Smoy - S1\n",
    "    m  = mu*((T2-T1)-delta*(S2-S1))\n",
    "# et les équations d'évolution\n",
    "    dT1dt = (T1r-T1)/tau + (abs(m)/V)*(T2-T1)\n",
    "    dT2dt = (T2r-T2)/tau + (abs(m)/V)*(T1-T2)\n",
    "    dS1dt = F + (abs(m)/V)*(S2-S1)\n",
    "#######################################\n",
    "    return [dT1dt, dT2dt, dS1dt]\n",
    "\n",
    "\n",
    "#\n",
    "# on s'intéresse à la circulation océanique m final en fonction de F et de la condition initiale sur S1\n",
    "#\n",
    "def mfinal2(S1i,F):\n",
    "    tfinal = 1000\n",
    "    sol2 = solve_ivp(lambda t, y: f2(t,y,F), [0, tfinal], [10,10,S1i], rtol = 1e-7)\n",
    "    \n",
    "    #plt.plot(sol2.t,mfunc(sol2.y))\n",
    "    #plt.show()\n",
    "\n",
    "    yfinal = sol2.y[:,-1]\n",
    "    T1final = yfinal[0]\n",
    "    T2final = yfinal[1]\n",
    "    S1final = yfinal[2]\n",
    "    \n",
    "#############  à compléter   #########\n",
    "    S2final = 2*Smoy - S1final\n",
    "    mfinal  = mu*((T2final-T1final)-delta*(S2final-S1final))\n",
    "#######################################\n",
    "    return mfinal\n",
    "\n",
    "#\n",
    "# ... quelques valeurs de m final en fonction de S1_initial et de F\n",
    "#\n",
    "print(\"35 & -0.032 : \",mfinal2(35,-0.032))\n",
    "print(\"35 & -0.031 : \",mfinal2(35,-0.031))\n",
    "print(\"34 & -0.031 : \",mfinal2(34,-0.031))\n",
    "\n",
    "\n",
    "#\n",
    "# de façon un peu plus systématique, plot la fonction m(F) pour quelques valeus de S1_initial \n",
    "#\n",
    "nrun = 20\n",
    "xf = np.linspace(0.025,0.035,nrun)   # les valeurs de -F\n",
    "xm350 = np.array([mfinal2(35,-f) for f in xf])\n",
    "xm345 = np.array([mfinal2(34.5,-f) for f in xf])\n",
    "xm340 = np.array([mfinal2(34,-f) for f in xf])\n",
    "\n",
    "plt.scatter(xf,xm350)\n",
    "#plt.show()\n",
    "plt.scatter(xf,xm345)\n",
    "#plt.show()\n",
    "plt.scatter(xf,xm340)\n",
    "plt.show()"
   ]
  },
  {
   "cell_type": "code",
   "execution_count": 4,
   "metadata": {},
   "outputs": [
    {
     "data": {
      "image/png": "[encoded data removed]",
      "text/plain": [
       "<Figure size 432x288 with 1 Axes>"
      ]
     },
     "metadata": {
      "needs_background": "light"
     },
     "output_type": "display_data"
    }
   ],
   "source": [
    "def G(x):\n",
    "    return x*np.abs(1-x)\n",
    "\n",
    "x=np.linspace(-1,2,100)\n",
    "plt.plot(x,G(x))\n",
    "plt.show()"
   ]
  },
  {
   "cell_type": "code",
   "execution_count": null,
   "metadata": {},
   "outputs": [],
   "source": []
  }
 ],
 "metadata": {
  "kernelspec": {
   "display_name": "Python 3",
   "language": "python",
   "name": "python3"
  },
  "language_info": {
   "codemirror_mode": {
    "name": "ipython",
    "version": 3
   },
   "file_extension": ".py",
   "mimetype": "text/x-python",
   "name": "python",
   "nbconvert_exporter": "python",
   "pygments_lexer": "ipython3",
   "version": "3.8.5"
  }
 },
 "nbformat": 4,
 "nbformat_minor": 4
}
