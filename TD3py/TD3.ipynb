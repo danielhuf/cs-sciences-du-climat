{
 "cells": [
  {
   "cell_type": "code",
   "execution_count": 3,
   "metadata": {},
   "outputs": [
    {
     "name": "stdout",
     "output_type": "stream",
     "text": [
      "sigmaT4 =  [392.28571429 290.03174603]\n",
      "T =  [288.40637673 267.43338387]\n",
      "T celcius =  [15.25637673 -5.71661613]\n"
     ]
    }
   ],
   "source": [
    "#\n",
    "# TD 3 \"Sciences du Climat\" - Question 3\n",
    "# équilibre : calcul direct\n",
    "#\n",
    "import numpy as np\n",
    "\n",
    "#les paramètres\n",
    "swA=67\n",
    "swS=168\n",
    "LH=78\n",
    "SH=24\n",
    "eta=0.9\n",
    "sigma=5.67e-8\n",
    "\n",
    "#système d'equation linéaire en xa = sigma Ta^4 et xs = sigma Ts^4\n",
    "#  0 == Ca dTa/dt = swa + ...\n",
    "#  0 == Cs dTs/dt = sws + ...\n",
    "\n",
    "#On résoud l'équation matricielle a.x = b\n",
    "\n",
    "#############  à compléter   #########\n",
    "a=np.array([[eta, -2*eta], [-1, 1.25*eta]])\n",
    "b=np.array([-(swA+LH+SH), -(swS-LH-SH)])\n",
    "######################################\n",
    "\n",
    "x = np.linalg.solve(a, b)\n",
    "\n",
    "print( \"sigmaT4 = \",x )\n",
    "print( \"T = \",pow(x/sigma,0.25) )\n",
    "print( \"T celcius = \",pow(x/sigma,0.25) - 273.15 )"
   ]
  },
  {
   "cell_type": "code",
   "execution_count": 4,
   "metadata": {},
   "outputs": [
    {
     "name": "stdout",
     "output_type": "stream",
     "text": [
      "TA, TS =  267.42385357307774 , 288.3914251580937\n"
     ]
    },
    {
     "data": {
      "image/png": "[encoded data removed]",
      "text/plain": [
       "<Figure size 432x288 with 1 Axes>"
      ]
     },
     "metadata": {
      "needs_background": "light"
     },
     "output_type": "display_data"
    }
   ],
   "source": [
    "#\n",
    "# TD 3 \"Sciences du Climat\" - Question 4\n",
    "# équilibre : intégration temporelle\n",
    "#\n",
    "import numpy as np\n",
    "import matplotlib.pyplot as plt\n",
    "from scipy.integrate import solve_ivp\n",
    "\n",
    "#les paramètres\n",
    "swA=67\n",
    "swS=168\n",
    "LH=78\n",
    "SH=24\n",
    "eta=0.9\n",
    "sigma=5.67e-8\n",
    "\n",
    "#les capacités calorifiques\n",
    "cA=13e+6\n",
    "cS=210e+6\n",
    "\n",
    "# le système d'équations différentielles\n",
    "def f(t,y):\n",
    "    # on renomme les 2 variables\n",
    "    TA = y[0]\n",
    "    TS = y[1]\n",
    "    sigmaTA4 = sigma*TA**4\n",
    "    sigmaTS4 = sigma*TS**4\n",
    "    # on en déduit les équations\n",
    "#############  à compléter   #########\n",
    "    dTAdt = (swA + LH + SH + eta*sigmaTS4 - 2*eta*sigmaTA4)/cA\n",
    "    dTSdt = (swS - LH - SH - sigmaTS4 + 1.25*eta*sigmaTA4)/cS\n",
    "######################################\n",
    "    return [dTAdt, dTSdt]\n",
    "\n",
    "# la condition initiale: par exemple 273 K\n",
    "y0 = [273,273]\n",
    "# la durée de l'intégration en secondes. Ici 20 ans.\n",
    "tfinal = (60*60*24)*365*20\n",
    "\n",
    "sol = solve_ivp(f, [0, tfinal], y0, rtol = 1e-7)\n",
    "yfinal = sol.y[:,-1]\n",
    "TAfinal = yfinal[0]\n",
    "TSfinal = yfinal[1]\n",
    "print( \"TA, TS = \",TAfinal, \",\", TSfinal )\n",
    "\n",
    "plt.plot(sol.t,sol.y[0])\n",
    "plt.plot(sol.t,sol.y[1])\n",
    "plt.show()\n",
    "\n",
    "# A abcissa está em segundos"
   ]
  },
  {
   "cell_type": "code",
   "execution_count": 5,
   "metadata": {},
   "outputs": [
    {
     "name": "stdout",
     "output_type": "stream",
     "text": [
      "sigmaT4 =  [399.37543085 292.29792417]\n",
      "T =  [289.70071781 267.9542613 ]\n",
      "T celcius =  [16.55071781 -5.1957387 ]\n"
     ]
    }
   ],
   "source": [
    "#\n",
    "# TD 3 \"Sciences du Climat\" - Question 5a\n",
    "# équilibre : calcul direct\n",
    "#\n",
    "import numpy as np\n",
    "\n",
    "#les paramètres\n",
    "swA=67\n",
    "swS=168\n",
    "LH=78\n",
    "SH=24\n",
    "eta=0.9 + 0.03*(np.sqrt(2)-1)  #MUDOU!!!!\n",
    "sigma=5.67e-8\n",
    "\n",
    "#système d'equation linéaire en xa = sigma Ta^4 et xs = sigma Ts^4\n",
    "#  0 == Ca dTa/dt = swa + ...\n",
    "#  0 == Cs dTs/dt = sws + ...\n",
    "\n",
    "#On résoud l'équation matricielle a.x = b\n",
    "\n",
    "#############  à compléter   #########\n",
    "a=np.array([[eta, -2*eta], [-1, 1.25*eta]])\n",
    "b=np.array([-(swA+LH+SH), -(swS-LH-SH)])\n",
    "######################################\n",
    "\n",
    "x = np.linalg.solve(a, b)\n",
    "\n",
    "print( \"sigmaT4 = \",x )\n",
    "print( \"T = \",pow(x/sigma,0.25) )\n",
    "print( \"T celcius = \",pow(x/sigma,0.25) - 273.15 )"
   ]
  },
  {
   "cell_type": "code",
   "execution_count": 1,
   "metadata": {},
   "outputs": [
    {
     "name": "stdout",
     "output_type": "stream",
     "text": [
      "TA, TS =  267.5967027521901 , 289.70869104454613\n"
     ]
    },
    {
     "data": {
      "image/png": "[encoded data removed]",
      "text/plain": [
       "<Figure size 432x288 with 1 Axes>"
      ]
     },
     "metadata": {
      "needs_background": "light"
     },
     "output_type": "display_data"
    }
   ],
   "source": [
    "#\n",
    "# TD 3 \"Sciences du Climat\" - Questions 5 et 6\n",
    "# équilibre : intégration temporelle\n",
    "#\n",
    "\n",
    "import numpy as np\n",
    "import matplotlib.pyplot as plt\n",
    "from scipy.integrate import solve_ivp\n",
    "\n",
    "#les paramètres\n",
    "swA=67\n",
    "swS=168\n",
    "LH=78\n",
    "SH=24\n",
    "eta=0.9\n",
    "sigma=5.67e-8\n",
    "\n",
    "#les capacités calorifiques\n",
    "cA=13e+6\n",
    "cS=210e+6\n",
    "\n",
    "#les nuages (Question 6)\n",
    "DeltaHcld = 0\n",
    "DeltaLcld = 0\n",
    "\n",
    "co2 = 560\n",
    "\n",
    "############ on selection la question ICI #######\n",
    "question = '6'\n",
    "#################################################\n",
    "\n",
    "def ew(T):\n",
    "    return 6.112*np.exp(17.62*(T-273.15)/(243.12+T-273.15))\n",
    "\n",
    "# le système d'équations différentielles\n",
    "def f(t,y):\n",
    "    # on renomme les 2 variables\n",
    "    TA = y[0]\n",
    "    TS = y[1]\n",
    "    swS = 168\n",
    "    co2 = 560\n",
    "    \n",
    "    if question=='5a':       # on modifie le CO2, sans rétroaction\n",
    "#############  à compléter   #########\n",
    "        eta =0.9 + 0.03*(np.sqrt(2) - 1)\n",
    "######################################\n",
    "    elif question=='5b':     # on modifie le CO2 et la vapeur d'eau\n",
    "        #############  à compléter   #########\n",
    "        eta = 0.9 + 0.03*(np.sqrt(2) - 1) + 0.05*(ew(TS)/ew(288.4) - 1)\n",
    "######################################\n",
    "    elif question=='5c':     # on modifie le CO2, la vapeur d'eau et l'albédo de surface\n",
    "#############  à compléter   #########\n",
    "        eta = 0.9 + 0.03*(np.sqrt(co2/280)-1) + 0.05*(ew(TS)/ew(288) - 1)\n",
    "        alphaS = 30/198 - 0.0015 * (TS-288)\n",
    "        swS = 198 * (1-alphaS)\n",
    "######################################\n",
    "    elif question=='6':\n",
    "        co2 = 2*280\n",
    "        DeltaLcld = 0.1  # à modifier = 0 ou 0.1\n",
    "        DeltaHcld = 0.   # à modifier = 0 ou 0.1\n",
    "        eta = 0.9+0.03*(np.sqrt(co2/280)-1)+0.05*(ew(TS)/ew(288) - 1)+0.1*DeltaHcld + 0.1*DeltaLcld\n",
    "        alphaA = 77.0/342 + 0.02*DeltaHcld + 0.125*DeltaLcld\n",
    "        swS = (168.0/198)*342*(1-67.0/342-alphaA)\n",
    "    else:\n",
    "        eta = 0.9\n",
    "    \n",
    "    sigmaTA4 = sigma*TA**4\n",
    "    sigmaTS4 = sigma*TS**4\n",
    "    # on en déduit les équations\n",
    "    #############  à compléter .... copier-coller de la question 3  #########\n",
    "    dTAdt = (swA + LH + SH + eta*sigmaTS4 - 2*eta*sigmaTA4)/cA\n",
    "    dTSdt = (swS - LH - SH - sigmaTS4 + 1.25*eta*sigmaTA4)/cS\n",
    "    ######################################\n",
    "    return [dTAdt, dTSdt]\n",
    "\n",
    "# la condition initiale: par exemple 273 K\n",
    "y0 = [273,273]\n",
    "# la durée de l'intégration en secondes. Ici 20 ans.\n",
    "tfinal = (60*60*24)*365*20\n",
    "\n",
    "sol = solve_ivp(f, [0, tfinal], y0, rtol = 1e-7)\n",
    "yfinal = sol.y[:,-1]\n",
    "TAfinal = yfinal[0]\n",
    "TSfinal = yfinal[1]\n",
    "print( \"TA, TS = \",TAfinal, \",\", TSfinal )\n",
    "\n",
    "plt.plot(sol.t,sol.y[0])\n",
    "plt.plot(sol.t,sol.y[1])\n",
    "plt.show()"
   ]
  },
  {
   "cell_type": "code",
   "execution_count": null,
   "metadata": {},
   "outputs": [],
   "source": []
  }
 ],
 "metadata": {
  "kernelspec": {
   "display_name": "Python 3",
   "language": "python",
   "name": "python3"
  },
  "language_info": {
   "codemirror_mode": {
    "name": "ipython",
    "version": 3
   },
   "file_extension": ".py",
   "mimetype": "text/x-python",
   "name": "python",
   "nbconvert_exporter": "python",
   "pygments_lexer": "ipython3",
   "version": "3.8.5"
  }
 },
 "nbformat": 4,
 "nbformat_minor": 4
}
